{
 "cells": [
  {
   "cell_type": "markdown",
   "id": "5b742ac1-053d-4e06-a25d-53a09ff9a8ef",
   "metadata": {},
   "source": [
    "# Wordle Bot User Interface"
   ]
  },
  {
   "cell_type": "markdown",
   "id": "d45bed71-5100-49e1-b27c-2b5888ca6dca",
   "metadata": {},
   "source": [
    "The function 'WordleBot' takes as an input the current state of the board, and returns its best guess for the next word. The algorithm for how this word is chosen from a list of allowed words is based on how a human may attempt to play wordle. There is a points system, where the bot ranks all of the possible solutions in terms of how similar they are to other allowed solutions. It then chooses the word which is most similar to others in the set, in the same way a person may take a 'frequentist approach' of picking words with common letters. For example, if the second letter is a h, a human would be inclined to pick words that start with a t or an s, as most words would follow one of those two sequences. "
   ]
  },
  {
   "cell_type": "markdown",
   "id": "7957bf0d",
   "metadata": {},
   "source": [
    "The scoring system rewards words that share common letters, and common letters in the same location. It penalises words with degeneracies, e.g., most human players would be hard pressed to play 'rarer', as a triple repeated letter always seems a waste. The exact values of each of these points (found in the 'Parameters' hashmap) given and degeneracy penalties were decided by running Bayesian Optimisation for 100 iterations, with each iteration playing 1000 games of wordle.  "
   ]
  },
  {
   "cell_type": "markdown",
   "id": "1d5f7ff1-5db2-4385-9a74-50e31d71b527",
   "metadata": {},
   "source": [
    "The methodology behind this approach is as follows: assuming all the words are equally likely to come up, the best next choice for a word is the word which reduces the number of other possible words that could come up after. Following this, I reason that we should chose a word which is most similar to all other words on the list. 'Similarity' is determined in terms of sharing common letters, and bonus points if they are in the same place. "
   ]
  },
  {
   "cell_type": "code",
   "execution_count": 23,
   "id": "23105922-79cc-4bbe-bdb3-7ed993c84ea1",
   "metadata": {},
   "outputs": [],
   "source": [
    "import WordleBot "
   ]
  },
  {
   "cell_type": "markdown",
   "id": "e3bd28df-15b0-43c6-a1d0-9612334b269d",
   "metadata": {},
   "source": [
    "# Example Usages"
   ]
  },
  {
   "cell_type": "code",
   "execution_count": 12,
   "id": "2a88500f-26fa-43cd-b16d-ca3dbf23e08e",
   "metadata": {},
   "outputs": [
    {
     "data": {
      "text/plain": [
       "'hired is the solution'"
      ]
     },
     "execution_count": 12,
     "metadata": {},
     "output_type": "execute_result"
    }
   ],
   "source": [
    "WordleBot.WordleBot(Greens = ['_', 'i', '_', '_', '_'],      # Add green letters in place\n",
    "           Yellows = [['r'], ['h'], ['e', 'd'], [], []],     # Add yellow letters in place \n",
    "           Repeated = [],                                    # Add letters you know are repeated\n",
    "           Not_Repeated = [],                                # Any yellows or greeens that you know only appear once\n",
    "           Greys = ['t', 'c'],                               # All letters that are known to not appear\n",
    "           Choices = False                                   # Choices = True shows all possible solutions given current set of words. \n",
    "         )"
   ]
  },
  {
   "cell_type": "code",
   "execution_count": 21,
   "id": "f8d39ace",
   "metadata": {},
   "outputs": [
    {
     "data": {
      "text/plain": [
       "\"The options are: ['grrrl', 'grubs', 'grypt', 'grunt', 'grrls', 'gruff', 'grump']\""
      ]
     },
     "execution_count": 21,
     "metadata": {},
     "output_type": "execute_result"
    }
   ],
   "source": [
    "WordleBot.WordleBot(Greens = ['g', 'r', '_', '_', '_'],      # Add green letters in place\n",
    "           Yellows = [['r'], [], [], [], []],                # Add yellow letters in place \n",
    "           Repeated = [],                                    # Add letters you know are repeated\n",
    "           Not_Repeated = [],                                # Any yellows or greeens that you know only appear once\n",
    "           Greys = ['i', 'd', 'c', 'h', 'e', 'v', 'a', 'o'], # All letters that are known to not appear\n",
    "           Choices = True                                    # Choices = True shows all possible solutions given current set of words. \n",
    "         )"
   ]
  },
  {
   "cell_type": "code",
   "execution_count": 22,
   "id": "8f88d759",
   "metadata": {},
   "outputs": [
    {
     "data": {
      "text/plain": [
       "\"Out of 12 options, I think 'borts' is the best choice\""
      ]
     },
     "execution_count": 22,
     "metadata": {},
     "output_type": "execute_result"
    }
   ],
   "source": [
    "WordleBot.WordleBot(Greens = ['b', 'o', '_', '_', '_'],      # Add green letters in place\n",
    "           Yellows = [['r'], [], [], [], []],                # Add yellow letters in place \n",
    "           Repeated = [],                                    # Add letters you know are repeated\n",
    "           Not_Repeated = [],                                # Any yellows or greeens that you know only appear once\n",
    "           Greys = ['i', 'd', 'c', 'h', 'e', 'v', 'a'],      # All letters that are known to not appear\n",
    "           Choices = False                                   # Choices = True shows all possible solutions given current set of words. \n",
    "         )"
   ]
  }
 ],
 "metadata": {
  "kernelspec": {
   "display_name": "venv",
   "language": "python",
   "name": "python3"
  },
  "language_info": {
   "codemirror_mode": {
    "name": "ipython",
    "version": 3
   },
   "file_extension": ".py",
   "mimetype": "text/x-python",
   "name": "python",
   "nbconvert_exporter": "python",
   "pygments_lexer": "ipython3",
   "version": "3.12.3"
  }
 },
 "nbformat": 4,
 "nbformat_minor": 5
}
