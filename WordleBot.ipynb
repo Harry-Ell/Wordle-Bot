{
 "cells": [
  {
   "cell_type": "markdown",
   "id": "5b742ac1-053d-4e06-a25d-53a09ff9a8ef",
   "metadata": {},
   "source": [
    "# Wordle Bot & Virutual Wordle Environment "
   ]
  },
  {
   "cell_type": "markdown",
   "id": "d45bed71-5100-49e1-b27c-2b5888ca6dca",
   "metadata": {},
   "source": [
    "Eventually, this will be split into 2 functions. WordleBot will take the current state of the board, and return its next best guess for the word. Wordle is a virtual environment which will take a 'Target_Word' and a 'Next_Guess'. Greens, Yellows and greys should be defined as globals which are only appended to in the latter function, not overwritten. "
   ]
  },
  {
   "cell_type": "code",
   "execution_count": 1,
   "id": "23105922-79cc-4bbe-bdb3-7ed993c84ea1",
   "metadata": {},
   "outputs": [],
   "source": [
    "import pandas as pd\n",
    "import re"
   ]
  },
  {
   "cell_type": "markdown",
   "id": "68ae5182-5214-40f1-b2a7-8bc0ff39989d",
   "metadata": {},
   "source": [
    "# Wordle Bot"
   ]
  },
  {
   "cell_type": "code",
   "execution_count": 2,
   "id": "00b3eced-e111-4b6d-8272-22473ad862f0",
   "metadata": {},
   "outputs": [],
   "source": [
    "def WordleBot(Greens, Yellows, Repeated, Not_Repeated, Greys, Choices):\n",
    "    link = 'https://raw.githubusercontent.com/tabatkins/wordle-list/main/words'\n",
    "    df = pd.read_csv(link)\n",
    "    list = df.values.tolist()\n",
    "    result = ' '.join([item for sublist in list for item in sublist])\n",
    "    counter = 0\n",
    "    pattern = r'\\b'\n",
    "    for sublist in Yellows:\n",
    "        if sublist:\n",
    "            for item1 in sublist:\n",
    "                pattern += f'(?=[a-z]*{item1})'  # Positive lookahead for required letter\n",
    "    for item2 in Greys:\n",
    "        if item2 != '_':\n",
    "            pattern += f'(?![a-z]*{item2})'  # Negative lookahead for excluded letters\n",
    "    for item in Greens:\n",
    "        if item != '_':\n",
    "            pattern += '[a-z]' * counter + item\n",
    "            counter = 0\n",
    "        else:\n",
    "            counter += 1\n",
    "    pattern += '[a-z]' * counter + r'\\b'\n",
    "    output = re.findall(pattern, result)\n",
    "    invalids = set()\n",
    "    for number in range(5):\n",
    "        if Yellows[number]:\n",
    "            for letter in Yellows[number]:\n",
    "                for word in output:\n",
    "                    if word[number] == letter:\n",
    "                        invalids.add(word)  # Add word to the set of words to remove\n",
    "                    \n",
    "    for word in output:\n",
    "    # Check for characters that should not repeat\n",
    "        for character in Not_Repeated:\n",
    "            counter1 = 0\n",
    "            for letter in word:\n",
    "                if letter == character:\n",
    "                    counter1 += 1\n",
    "                    if counter1 >= 2:\n",
    "                        invalids.add(word)\n",
    "                        break  # Once a character repeats, we can stop checking this word\n",
    "        # Check for characters that should repeat\n",
    "        for character in Repeated:\n",
    "            counter2 = 0\n",
    "            for letter in word:\n",
    "                if letter == character:\n",
    "                    counter2 += 1\n",
    "            if counter2 < 2:\n",
    "                invalids.add(word)\n",
    "                break  # If any repeated character doesn't appear twice, mark the word as invalid\n",
    "\n",
    "    output = [word for word in output if word not in invalids]\n",
    "    scores = []\n",
    "    for sample in output:\n",
    "        sample_word_letter = set()\n",
    "        sample_word_letter_and_place = set()\n",
    "        sample_degeneracy = 0\n",
    "        sample_multiplier = 0\n",
    "        for i in range(5):\n",
    "            sample_word_letter.add(sample[i])\n",
    "            sample_word_letter_and_place.add((sample[i], i))\n",
    "            for j in range(5):\n",
    "                if j != i:\n",
    "                    if sample[j] == sample[i]:\n",
    "                        sample_degeneracy += 1\n",
    "            if sample_degeneracy == 0:\n",
    "                sample_multiplier = 1\n",
    "            if sample_degeneracy == 2:\n",
    "                sample_multiplier = 0.9\n",
    "            if sample_degeneracy == 4:\n",
    "                sample_multiplier = 0.8\n",
    "            if sample_degeneracy == 6:\n",
    "                sample_multiplier = 0.7\n",
    "            if sample_degeneracy >= 6:\n",
    "                sample_multiplier = 0.6\n",
    "        sample_score = 0\n",
    "        for word in output:\n",
    "            working_word_letter = set()\n",
    "            working_word_letter_and_place = set()\n",
    "            for i in range(5):\n",
    "                working_word_letter.add(word[i])\n",
    "                working_word_letter_and_place.add((word[i], i))\n",
    "            common_letter = working_word_letter.intersection(sample_word_letter)                                      \n",
    "            common_letter_and_place = working_word_letter_and_place.intersection(sample_word_letter_and_place)\n",
    "            sample_score += len(common_letter) + 2 * len(common_letter_and_place)   \n",
    "        scores.append(sample_score * sample_multiplier)\n",
    "    try:\n",
    "        best_guess = output[scores.index(max(scores))]  \n",
    "        if Choices == False:\n",
    "            if len(output) != 1:\n",
    "                return f'Out of {len(output)} options, I think \\'{best_guess}\\' is the best choice'\n",
    "            else:\n",
    "                return f'{best_guess} is the solution'\n",
    "        else:\n",
    "            return f'The options are: {output}'\n",
    "    except ValueError:\n",
    "        return 'No words match this set of conditions'"
   ]
  },
  {
   "cell_type": "markdown",
   "id": "1d5f7ff1-5db2-4385-9a74-50e31d71b527",
   "metadata": {},
   "source": [
    "The methodology behind this approach is as follows: assuming all the words are equally likely to come up, the best next choice for a word is the word which reduces the number of other possible words that could come up after. Following this, I reason that we should chose a word which is most similar to all other words on the list. 'Similarity' is determined in terms of sharing common letters, and bonus points if they are in the same place. "
   ]
  },
  {
   "cell_type": "markdown",
   "id": "e3bd28df-15b0-43c6-a1d0-9612334b269d",
   "metadata": {},
   "source": [
    "# Example usage"
   ]
  },
  {
   "cell_type": "code",
   "execution_count": 35,
   "id": "2a88500f-26fa-43cd-b16d-ca3dbf23e08e",
   "metadata": {},
   "outputs": [
    {
     "data": {
      "text/plain": [
       "'bobak is the solution'"
      ]
     },
     "execution_count": 35,
     "metadata": {},
     "output_type": "execute_result"
    }
   ],
   "source": [
    "WordleBot(Greens = ['b', '_', '_', '_', '_'],        # Add green letters in place\n",
    "           Yellows = [['o'], ['k'], [], [], []],# Add yellow letters in place \n",
    "           Repeated = ['b'],\n",
    "           Not_Repeated = ['o'],                        # Any yellows or greeens that you know only appear once\n",
    "           Greys = ['t', 'r'],   # All letters that are known to not appear\n",
    "           Choices = False                           # Choices = True shows all possible solutions given current set of words. \n",
    "         )"
   ]
  },
  {
   "cell_type": "markdown",
   "id": "2b0de023-e9a4-4fbd-9eab-03fb50b3449d",
   "metadata": {},
   "source": [
    "# Misc"
   ]
  }
 ],
 "metadata": {
  "kernelspec": {
   "display_name": "Python 3 + Jaspy",
   "language": "python",
   "name": "jaspy"
  },
  "language_info": {
   "codemirror_mode": {
    "name": "ipython",
    "version": 3
   },
   "file_extension": ".py",
   "mimetype": "text/x-python",
   "name": "python",
   "nbconvert_exporter": "python",
   "pygments_lexer": "ipython3",
   "version": "3.10.8"
  }
 },
 "nbformat": 4,
 "nbformat_minor": 5
}
